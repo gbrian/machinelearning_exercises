{
 "cells": [
  {
   "cell_type": "markdown",
   "metadata": {},
   "source": [
    "## Load data"
   ]
  },
  {
   "cell_type": "code",
   "execution_count": 25,
   "metadata": {
    "collapsed": false
   },
   "outputs": [
    {
     "data": {
      "text/html": [
       "<div>\n",
       "<style>\n",
       "    .dataframe thead tr:only-child th {\n",
       "        text-align: right;\n",
       "    }\n",
       "\n",
       "    .dataframe thead th {\n",
       "        text-align: left;\n",
       "    }\n",
       "\n",
       "    .dataframe tbody tr th {\n",
       "        vertical-align: top;\n",
       "    }\n",
       "</style>\n",
       "<table border=\"1\" class=\"dataframe\">\n",
       "  <thead>\n",
       "    <tr style=\"text-align: right;\">\n",
       "      <th></th>\n",
       "      <th>A1</th>\n",
       "      <th>A2</th>\n",
       "      <th>A3</th>\n",
       "      <th>A4</th>\n",
       "      <th>A5</th>\n",
       "      <th>A6</th>\n",
       "      <th>A7</th>\n",
       "      <th>A8</th>\n",
       "      <th>A9</th>\n",
       "      <th>A10</th>\n",
       "      <th>A11</th>\n",
       "      <th>A12</th>\n",
       "      <th>Class</th>\n",
       "    </tr>\n",
       "  </thead>\n",
       "  <tbody>\n",
       "    <tr>\n",
       "      <th>0</th>\n",
       "      <td>1</td>\n",
       "      <td>1799</td>\n",
       "      <td>390</td>\n",
       "      <td>26</td>\n",
       "      <td>6</td>\n",
       "      <td>9</td>\n",
       "      <td>7</td>\n",
       "      <td>4</td>\n",
       "      <td>27</td>\n",
       "      <td>7</td>\n",
       "      <td>4</td>\n",
       "      <td>27</td>\n",
       "      <td>4</td>\n",
       "    </tr>\n",
       "    <tr>\n",
       "      <th>1</th>\n",
       "      <td>1</td>\n",
       "      <td>1802</td>\n",
       "      <td>390</td>\n",
       "      <td>18</td>\n",
       "      <td>5</td>\n",
       "      <td>98</td>\n",
       "      <td>8</td>\n",
       "      <td>3</td>\n",
       "      <td>32</td>\n",
       "      <td>8</td>\n",
       "      <td>3</td>\n",
       "      <td>32</td>\n",
       "      <td>4</td>\n",
       "    </tr>\n",
       "    <tr>\n",
       "      <th>2</th>\n",
       "      <td>4</td>\n",
       "      <td>560</td>\n",
       "      <td>2667</td>\n",
       "      <td>21</td>\n",
       "      <td>5</td>\n",
       "      <td>13</td>\n",
       "      <td>6</td>\n",
       "      <td>3</td>\n",
       "      <td>23</td>\n",
       "      <td>6</td>\n",
       "      <td>3</td>\n",
       "      <td>23</td>\n",
       "      <td>4</td>\n",
       "    </tr>\n",
       "    <tr>\n",
       "      <th>3</th>\n",
       "      <td>1</td>\n",
       "      <td>988</td>\n",
       "      <td>390</td>\n",
       "      <td>10</td>\n",
       "      <td>3</td>\n",
       "      <td>120</td>\n",
       "      <td>7</td>\n",
       "      <td>2</td>\n",
       "      <td>27</td>\n",
       "      <td>7</td>\n",
       "      <td>2</td>\n",
       "      <td>27</td>\n",
       "      <td>4</td>\n",
       "    </tr>\n",
       "    <tr>\n",
       "      <th>4</th>\n",
       "      <td>4</td>\n",
       "      <td>2129</td>\n",
       "      <td>390</td>\n",
       "      <td>23</td>\n",
       "      <td>6</td>\n",
       "      <td>17</td>\n",
       "      <td>6</td>\n",
       "      <td>2</td>\n",
       "      <td>26</td>\n",
       "      <td>6</td>\n",
       "      <td>2</td>\n",
       "      <td>26</td>\n",
       "      <td>4</td>\n",
       "    </tr>\n",
       "  </tbody>\n",
       "</table>\n",
       "</div>"
      ],
      "text/plain": [
       "   A1    A2    A3  A4  A5   A6  A7  A8  A9  A10  A11  A12  Class\n",
       "0   1  1799   390  26   6    9   7   4  27    7    4   27      4\n",
       "1   1  1802   390  18   5   98   8   3  32    8    3   32      4\n",
       "2   4   560  2667  21   5   13   6   3  23    6    3   23      4\n",
       "3   1   988   390  10   3  120   7   2  27    7    2   27      4\n",
       "4   4  2129   390  23   6   17   6   2  26    6    2   26      4"
      ]
     },
     "execution_count": 25,
     "metadata": {},
     "output_type": "execute_result"
    }
   ],
   "source": [
    "import pandas\n",
    "training = pandas.read_csv('training.tsv', delimiter='\\t')\n",
    "test = pandas.read_csv('test.tsv', delimiter='\\t')\n",
    "training.head()"
   ]
  },
  {
   "cell_type": "markdown",
   "metadata": {},
   "source": [
    "## Feature selection\n",
    "https://machinelearningmastery.com/feature-selection-machine-learning-python/\n"
   ]
  },
  {
   "cell_type": "code",
   "execution_count": 27,
   "metadata": {
    "collapsed": false
   },
   "outputs": [
    {
     "name": "stdout",
     "output_type": "stream",
     "text": [
      "   column         score\n",
      "0      A1  6.922209e+07\n",
      "1      A2  1.176584e+07\n",
      "2      A3  9.947493e+06\n",
      "3      A4  3.012508e+05\n",
      "4      A6  1.659314e+05\n",
      "5      A9  7.330293e+04\n",
      "6      A5  6.170595e+04\n",
      "7      A7  1.552336e+04\n",
      "8     A10  1.549642e+04\n",
      "9      A8  2.239109e+02\n",
      "10    A11  1.973365e+02\n"
     ]
    }
   ],
   "source": [
    "# Feature Extraction with Univariate Statistical Tests (Chi-squared for classification)\n",
    "import pandas\n",
    "import numpy\n",
    "from sklearn.feature_selection import SelectKBest\n",
    "from sklearn.feature_selection import chi2\n",
    "classIndex = len(training.columns)-1\n",
    "lastColIndex = classIndex-1\n",
    "array = training.values\n",
    "X = array[:,0:-2]\n",
    "Y = array[:,-1]\n",
    "# feature extraction\n",
    "test = SelectKBest(score_func=chi2, k=4)\n",
    "fit = test.fit(X, Y)\n",
    "# summarize scores\n",
    "columns = list(training.columns)\n",
    "numpy.set_printoptions(precision=3)\n",
    "scoredFeatures = [{\"score\":x,\"column\":columns[i]} for i,x in enumerate(fit.scores_)]\n",
    "sortedScoredFeatures = sorted(scoredFeatures, key=lambda x: x['score'], reverse=True) \n",
    "print(pandas.DataFrame.from_dict(sortedScoredFeatures))\n"
   ]
  },
  {
   "cell_type": "markdown",
   "metadata": {},
   "source": [
    "## Classification"
   ]
  },
  {
   "cell_type": "code",
   "execution_count": null,
   "metadata": {
    "collapsed": false
   },
   "outputs": [
    {
     "name": "stdout",
     "output_type": "stream",
     "text": [
      "Welcome to auto_ml! We're about to go through and make sense of your data using machine learning, and give you a production-ready pipeline to get predictions with.\n",
      "\n",
      "If you have any issues, or new feature ideas, let us know at https://github.com/ClimbsRocks/auto_ml\n",
      "Now using the model training_params that you passed in:\n",
      "{}\n",
      "After overwriting our defaults with your values, here are the final params that will be used to initialize the model:\n",
      "{'learning_rate': 0.1, 'warm_start': True, 'presort': False}\n",
      "Running basic data cleaning\n",
      "Performing feature scaling\n",
      "Fitting DataFrameVectorizer\n",
      "Now using the model training_params that you passed in:\n",
      "{}\n",
      "After overwriting our defaults with your values, here are the final params that will be used to initialize the model:\n",
      "{'learning_rate': 0.1, 'warm_start': True, 'presort': False}\n",
      "\n",
      "\n",
      "********************************************************************************************\n",
      "About to fit the pipeline for the model GradientBoostingClassifier to predict Class\n",
      "Started at:\n",
      "2017-10-30 06:06:02\n"
     ]
    }
   ],
   "source": [
    "# http://auto-ml.readthedocs.io/en/latest/\n",
    "from auto_ml import Predictor\n",
    "\n",
    "# If you pass in any categorical data as a number, tell us here and we'll take care of it.\n",
    "col_desc_dictionary = {\"Class\": \"output\"}\n",
    "\n",
    "# Can pass in type_of_estimator='regressor' as well\n",
    "ml_predictor = Predictor(type_of_estimator='classifier', column_descriptions=col_desc_dictionary)\n",
    "\n",
    "# Wait for the machine to learn all the complex and beautiful patterns in your data...\n",
    "ml_predictor.train(training, ml_for_analytics=True)\n",
    "\n",
    "# And this time, in your shell, it will print out the results for what it found was useful in making predictions!\n",
    "\n",
    "# Where new_data is a single dictionary, or a DataFrame\n",
    "ml_predictor.predict(test)"
   ]
  }
 ],
 "metadata": {
  "anaconda-cloud": {},
  "kernelspec": {
   "display_name": "Python [conda root]",
   "language": "python",
   "name": "conda-root-py"
  },
  "language_info": {
   "codemirror_mode": {
    "name": "ipython",
    "version": 3
   },
   "file_extension": ".py",
   "mimetype": "text/x-python",
   "name": "python",
   "nbconvert_exporter": "python",
   "pygments_lexer": "ipython3",
   "version": "3.5.2"
  }
 },
 "nbformat": 4,
 "nbformat_minor": 1
}
